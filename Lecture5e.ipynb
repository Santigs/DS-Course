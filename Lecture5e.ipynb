{
  "nbformat": 4,
  "nbformat_minor": 0,
  "metadata": {
    "colab": {
      "name": "Lecture5e.ipynb",
      "provenance": [],
      "authorship_tag": "ABX9TyMrSUkxEB+uRHaqKMimAp+8",
      "include_colab_link": true
    },
    "kernelspec": {
      "name": "python3",
      "display_name": "Python 3"
    }
  },
  "cells": [
    {
      "cell_type": "markdown",
      "metadata": {
        "id": "view-in-github",
        "colab_type": "text"
      },
      "source": [
        "<a href=\"https://colab.research.google.com/github/Santigs/DS-Course/blob/main/Lecture5e.ipynb\" target=\"_parent\"><img src=\"https://colab.research.google.com/assets/colab-badge.svg\" alt=\"Open In Colab\"/></a>"
      ]
    },
    {
      "cell_type": "code",
      "metadata": {
        "id": "n4yTw8k2W0Ek"
      },
      "source": [
        "!pip install gql"
      ],
      "execution_count": null,
      "outputs": []
    },
    {
      "cell_type": "code",
      "metadata": {
        "id": "FxbK_9HkWuLJ"
      },
      "source": [
        "import pandas as pd\n",
        "import plotly.express as px\n",
        "\n",
        "from gql import gql, Client\n",
        "from gql.transport.requests import RequestsHTTPTransport\n"
      ],
      "execution_count": 2,
      "outputs": []
    },
    {
      "cell_type": "code",
      "metadata": {
        "id": "2B5ne2CnXB4L"
      },
      "source": [
        "#---------- Extract data from Uniswap Subgraph ----------\n",
        "\n",
        "sample_transport=RequestsHTTPTransport(\n",
        "    url='https://api.thegraph.com/subgraphs/name/uniswap/uniswap-v2',\n",
        "    verify=True,\n",
        "    retries=3,\n",
        ")\n",
        "client = Client(\n",
        "    transport=sample_transport\n",
        ")\n",
        "query = gql('''\n",
        "query {\n",
        "    pairs (first: 5) {\n",
        "    token0 {\n",
        "      symbol\n",
        "    }\n",
        "    token1 {\n",
        "      symbol\n",
        "    }\n",
        "  }\n",
        "}\n",
        "''')\n",
        "response1 = client.execute(query)\n",
        "print(response1)\n",
        "print(response1['pairs'])"
      ],
      "execution_count": null,
      "outputs": []
    },
    {
      "cell_type": "code",
      "metadata": {
        "id": "ftJJSwH4XRZN"
      },
      "source": [
        "# ----------- Creating the dataframe from the json file. -------------\n",
        "\n",
        "pairs = []\n",
        "for i in response1['pairs']:\n",
        "    pairs.append([\n",
        "        i['token0']['symbol'],\n",
        "        i['token1']['symbol'],\n",
        "     ])\n",
        "\n",
        "print(pairs)\n",
        "\n",
        "df = pd.DataFrame(pairs)\n",
        "df"
      ],
      "execution_count": null,
      "outputs": []
    },
    {
      "cell_type": "code",
      "metadata": {
        "id": "suLGHo-LWlEq"
      },
      "source": [
        "# ----------- Creating a different query -------------\n",
        "\n",
        "query = gql('''\n",
        "query {\n",
        "      pairs (first: 50, where: {volumeUSD_gt: \"10000000\"}) \n",
        "    {\n",
        "    volumeUSD\n",
        "    token0 {\n",
        "      symbol\n",
        "    }\n",
        "    token1 {\n",
        "      symbol\n",
        "    }\n",
        "  }\n",
        "}\n",
        "''')\n",
        "response2 = client.execute(query)\n",
        "\n",
        "print()\n",
        "print()\n",
        "\n",
        "pairs = []\n",
        "for i in response2['pairs']:\n",
        "    pairs.append([\n",
        "        i['token0']['symbol'],\n",
        "        i['token1']['symbol'],\n",
        "        i['volumeUSD']\n",
        "     ])\n",
        "\n",
        "\n",
        "df = pd.DataFrame(pairs)\n",
        "df.head()\n"
      ],
      "execution_count": null,
      "outputs": []
    },
    {
      "cell_type": "code",
      "metadata": {
        "id": "JhFneWPBXvo1"
      },
      "source": [
        "df[2] = df[2].astype(float)\n",
        "df.columns=['Token1','Token2', 'Volume-USD']\n",
        "df.head()"
      ],
      "execution_count": null,
      "outputs": []
    },
    {
      "cell_type": "code",
      "metadata": {
        "id": "MUK8p3BjYSMZ"
      },
      "source": [
        "df['Pair']=df['Token1']+'-'+df['Token2']\n",
        "df.head()"
      ],
      "execution_count": null,
      "outputs": []
    },
    {
      "cell_type": "code",
      "metadata": {
        "id": "YZqC85sQZxqF"
      },
      "source": [
        "fig = px.bar(df, x='Pair', y='Volume-USD')\n",
        "fig.show()"
      ],
      "execution_count": null,
      "outputs": []
    }
  ]
}