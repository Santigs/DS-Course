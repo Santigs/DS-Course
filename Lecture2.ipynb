{
  "nbformat": 4,
  "nbformat_minor": 0,
  "metadata": {
    "colab": {
      "name": "Lecture2.ipynb",
      "provenance": [],
      "authorship_tag": "ABX9TyMwWJt600TpoFdFQrjBWGGt"
    },
    "kernelspec": {
      "display_name": "Python 3",
      "name": "python3"
    }
  },
  "cells": [
    {
      "cell_type": "code",
      "metadata": {
        "id": "FbPnNgCfiVQh"
      },
      "source": [
        "#import libraries\n",
        "import pandas as pd\n",
        "import numpy as np\n",
        "import matplotlib.pyplot as plt\n",
        "import seaborn as sns; sns.set()\n"
      ],
      "execution_count": 40,
      "outputs": []
    },
    {
      "cell_type": "markdown",
      "metadata": {
        "id": "TAH8zhYwSZ-M"
      },
      "source": [
        "https://numpy.org/ \\\n",
        "https://pandas.pydata.org/ \\\n",
        "https://matplotlib.org/ \\\n",
        "https://github.com/Santigs/DS-Course\n"
      ]
    },
    {
      "cell_type": "markdown",
      "metadata": {
        "id": "11Jrn0MYaAH-"
      },
      "source": [
        "# Basic operations"
      ]
    },
    {
      "cell_type": "code",
      "metadata": {
        "id": "6i0oUDYsaGug"
      },
      "source": [
        "data = {\n",
        "    'apples': [3, 2, 0, 1], \n",
        "    'oranges': [0, 3, 7, 2]\n",
        "}"
      ],
      "execution_count": 26,
      "outputs": []
    },
    {
      "cell_type": "code",
      "metadata": {
        "id": "a_zoWdSQaKir",
        "colab": {
          "base_uri": "https://localhost:8080/",
          "height": 171
        },
        "outputId": "8a7660ad-2875-4d45-be01-d71cf2702923"
      },
      "source": [
        "purchases = pd.DataFrame(data)\n",
        "purchases"
      ],
      "execution_count": 27,
      "outputs": [
        {
          "output_type": "execute_result",
          "data": {
            "text/html": [
              "<div>\n",
              "<style scoped>\n",
              "    .dataframe tbody tr th:only-of-type {\n",
              "        vertical-align: middle;\n",
              "    }\n",
              "\n",
              "    .dataframe tbody tr th {\n",
              "        vertical-align: top;\n",
              "    }\n",
              "\n",
              "    .dataframe thead th {\n",
              "        text-align: right;\n",
              "    }\n",
              "</style>\n",
              "<table border=\"1\" class=\"dataframe\">\n",
              "  <thead>\n",
              "    <tr style=\"text-align: right;\">\n",
              "      <th></th>\n",
              "      <th>apples</th>\n",
              "      <th>oranges</th>\n",
              "    </tr>\n",
              "  </thead>\n",
              "  <tbody>\n",
              "    <tr>\n",
              "      <th>0</th>\n",
              "      <td>3</td>\n",
              "      <td>0</td>\n",
              "    </tr>\n",
              "    <tr>\n",
              "      <th>1</th>\n",
              "      <td>2</td>\n",
              "      <td>3</td>\n",
              "    </tr>\n",
              "    <tr>\n",
              "      <th>2</th>\n",
              "      <td>0</td>\n",
              "      <td>7</td>\n",
              "    </tr>\n",
              "    <tr>\n",
              "      <th>3</th>\n",
              "      <td>1</td>\n",
              "      <td>2</td>\n",
              "    </tr>\n",
              "  </tbody>\n",
              "</table>\n",
              "</div>"
            ],
            "text/plain": [
              "   apples  oranges\n",
              "0       3        0\n",
              "1       2        3\n",
              "2       0        7\n",
              "3       1        2"
            ]
          },
          "metadata": {
            "tags": []
          },
          "execution_count": 27
        }
      ]
    },
    {
      "cell_type": "code",
      "metadata": {
        "id": "FlAqPBc7aN9e",
        "colab": {
          "base_uri": "https://localhost:8080/",
          "height": 171
        },
        "outputId": "5899330f-6dab-404c-c1eb-6bbf10cdd6fe"
      },
      "source": [
        "purchases = pd.DataFrame(data, index=['June', 'Robert', 'Lily', 'David'])\n",
        "purchases"
      ],
      "execution_count": 28,
      "outputs": [
        {
          "output_type": "execute_result",
          "data": {
            "text/html": [
              "<div>\n",
              "<style scoped>\n",
              "    .dataframe tbody tr th:only-of-type {\n",
              "        vertical-align: middle;\n",
              "    }\n",
              "\n",
              "    .dataframe tbody tr th {\n",
              "        vertical-align: top;\n",
              "    }\n",
              "\n",
              "    .dataframe thead th {\n",
              "        text-align: right;\n",
              "    }\n",
              "</style>\n",
              "<table border=\"1\" class=\"dataframe\">\n",
              "  <thead>\n",
              "    <tr style=\"text-align: right;\">\n",
              "      <th></th>\n",
              "      <th>apples</th>\n",
              "      <th>oranges</th>\n",
              "    </tr>\n",
              "  </thead>\n",
              "  <tbody>\n",
              "    <tr>\n",
              "      <th>June</th>\n",
              "      <td>3</td>\n",
              "      <td>0</td>\n",
              "    </tr>\n",
              "    <tr>\n",
              "      <th>Robert</th>\n",
              "      <td>2</td>\n",
              "      <td>3</td>\n",
              "    </tr>\n",
              "    <tr>\n",
              "      <th>Lily</th>\n",
              "      <td>0</td>\n",
              "      <td>7</td>\n",
              "    </tr>\n",
              "    <tr>\n",
              "      <th>David</th>\n",
              "      <td>1</td>\n",
              "      <td>2</td>\n",
              "    </tr>\n",
              "  </tbody>\n",
              "</table>\n",
              "</div>"
            ],
            "text/plain": [
              "        apples  oranges\n",
              "June         3        0\n",
              "Robert       2        3\n",
              "Lily         0        7\n",
              "David        1        2"
            ]
          },
          "metadata": {
            "tags": []
          },
          "execution_count": 28
        }
      ]
    },
    {
      "cell_type": "code",
      "metadata": {
        "id": "Giy0EC7uaQms",
        "colab": {
          "base_uri": "https://localhost:8080/"
        },
        "outputId": "1ca07474-0fbe-4207-fa4b-ad4cc10fe911"
      },
      "source": [
        "purchases.loc['Lily']"
      ],
      "execution_count": 31,
      "outputs": [
        {
          "output_type": "execute_result",
          "data": {
            "text/plain": [
              "apples     0\n",
              "oranges    7\n",
              "Name: Lily, dtype: int64"
            ]
          },
          "metadata": {
            "tags": []
          },
          "execution_count": 31
        }
      ]
    },
    {
      "cell_type": "code",
      "metadata": {
        "id": "DV7V3NfsaT04",
        "colab": {
          "base_uri": "https://localhost:8080/"
        },
        "outputId": "c732a485-3f47-48c2-95e4-2e6a31c0a5a9"
      },
      "source": [
        "purchases.iloc[2]"
      ],
      "execution_count": 32,
      "outputs": [
        {
          "output_type": "execute_result",
          "data": {
            "text/plain": [
              "apples     0\n",
              "oranges    7\n",
              "Name: Lily, dtype: int64"
            ]
          },
          "metadata": {
            "tags": []
          },
          "execution_count": 32
        }
      ]
    },
    {
      "cell_type": "markdown",
      "metadata": {
        "id": "It40-e870K_q"
      },
      "source": [
        "# Importing data"
      ]
    },
    {
      "cell_type": "code",
      "metadata": {
        "id": "vv2hhCTYiZEV"
      },
      "source": [
        "#create dataframe with data from csv local file\n",
        "df = pd.read_csv(\"Titanic.csv\")\n"
      ],
      "execution_count": null,
      "outputs": []
    },
    {
      "cell_type": "code",
      "metadata": {
        "id": "kZlr0GDIoHT2"
      },
      "source": [
        "#create dataframe with data from csv raw github file\n",
        "df = pd.read_csv('https://raw.githubusercontent.com/Santigs/DS-Course/main/Titanic.csv')\n"
      ],
      "execution_count": null,
      "outputs": []
    },
    {
      "cell_type": "markdown",
      "metadata": {
        "id": "HIiOh4Nf58ka"
      },
      "source": [
        "Dataset description\n",
        "https://www.kaggle.com/c/titanic/data"
      ]
    },
    {
      "cell_type": "markdown",
      "metadata": {
        "id": "b0ANWXk_0fNt"
      },
      "source": [
        "# Basic dataframe information"
      ]
    },
    {
      "cell_type": "code",
      "metadata": {
        "id": "nx62Iwbeoev5",
        "colab": {
          "base_uri": "https://localhost:8080/"
        },
        "outputId": "a393b92d-0816-403c-9179-6e5774047286"
      },
      "source": [
        "df.columns"
      ],
      "execution_count": 37,
      "outputs": [
        {
          "output_type": "execute_result",
          "data": {
            "text/plain": [
              "Index(['PassengerId', 'Survived', 'Pclass', 'Name', 'Sex', 'Age', 'SibSp',\n",
              "       'Parch', 'Ticket', 'Fare', 'Cabin', 'Embarked'],\n",
              "      dtype='object')"
            ]
          },
          "metadata": {
            "tags": []
          },
          "execution_count": 37
        }
      ]
    },
    {
      "cell_type": "code",
      "metadata": {
        "id": "quxOXOqso0OP",
        "colab": {
          "base_uri": "https://localhost:8080/"
        },
        "outputId": "7c26ad2e-8956-4c6d-86c2-7763cbcb16ec"
      },
      "source": [
        "df.shape"
      ],
      "execution_count": 38,
      "outputs": [
        {
          "output_type": "execute_result",
          "data": {
            "text/plain": [
              "(891, 12)"
            ]
          },
          "metadata": {
            "tags": []
          },
          "execution_count": 38
        }
      ]
    },
    {
      "cell_type": "code",
      "metadata": {
        "id": "g3tV6iVSpgks",
        "colab": {
          "base_uri": "https://localhost:8080/"
        },
        "outputId": "7a00bf31-7434-4f87-cf54-f5b505ddf388"
      },
      "source": [
        "df.info()"
      ],
      "execution_count": 39,
      "outputs": [
        {
          "output_type": "stream",
          "text": [
            "<class 'pandas.core.frame.DataFrame'>\n",
            "RangeIndex: 891 entries, 0 to 890\n",
            "Data columns (total 12 columns):\n",
            " #   Column       Non-Null Count  Dtype  \n",
            "---  ------       --------------  -----  \n",
            " 0   PassengerId  891 non-null    int64  \n",
            " 1   Survived     891 non-null    int64  \n",
            " 2   Pclass       891 non-null    int64  \n",
            " 3   Name         891 non-null    object \n",
            " 4   Sex          891 non-null    object \n",
            " 5   Age          714 non-null    float64\n",
            " 6   SibSp        891 non-null    int64  \n",
            " 7   Parch        891 non-null    int64  \n",
            " 8   Ticket       891 non-null    object \n",
            " 9   Fare         891 non-null    float64\n",
            " 10  Cabin        204 non-null    object \n",
            " 11  Embarked     889 non-null    object \n",
            "dtypes: float64(2), int64(5), object(5)\n",
            "memory usage: 83.7+ KB\n"
          ],
          "name": "stdout"
        }
      ]
    },
    {
      "cell_type": "code",
      "metadata": {
        "id": "sIMg9Cofp81t"
      },
      "source": [
        "df.tail(10)"
      ],
      "execution_count": null,
      "outputs": []
    },
    {
      "cell_type": "markdown",
      "metadata": {
        "id": "exJ3ptOf0zb9"
      },
      "source": [
        "# Basic numerical information"
      ]
    },
    {
      "cell_type": "code",
      "metadata": {
        "id": "0YnTqriup8wz",
        "colab": {
          "base_uri": "https://localhost:8080/",
          "height": 294
        },
        "outputId": "dc05a94e-407b-41ca-8967-7676346521aa"
      },
      "source": [
        "#shows only numerical variables\n",
        "df.describe()"
      ],
      "execution_count": 48,
      "outputs": [
        {
          "output_type": "execute_result",
          "data": {
            "text/html": [
              "<div>\n",
              "<style scoped>\n",
              "    .dataframe tbody tr th:only-of-type {\n",
              "        vertical-align: middle;\n",
              "    }\n",
              "\n",
              "    .dataframe tbody tr th {\n",
              "        vertical-align: top;\n",
              "    }\n",
              "\n",
              "    .dataframe thead th {\n",
              "        text-align: right;\n",
              "    }\n",
              "</style>\n",
              "<table border=\"1\" class=\"dataframe\">\n",
              "  <thead>\n",
              "    <tr style=\"text-align: right;\">\n",
              "      <th></th>\n",
              "      <th>PassengerId</th>\n",
              "      <th>Survived</th>\n",
              "      <th>Pclass</th>\n",
              "      <th>Age</th>\n",
              "      <th>SibSp</th>\n",
              "      <th>Parch</th>\n",
              "      <th>Fare</th>\n",
              "    </tr>\n",
              "  </thead>\n",
              "  <tbody>\n",
              "    <tr>\n",
              "      <th>count</th>\n",
              "      <td>891.000000</td>\n",
              "      <td>891.000000</td>\n",
              "      <td>891.000000</td>\n",
              "      <td>714.000000</td>\n",
              "      <td>891.000000</td>\n",
              "      <td>891.000000</td>\n",
              "      <td>891.000000</td>\n",
              "    </tr>\n",
              "    <tr>\n",
              "      <th>mean</th>\n",
              "      <td>446.000000</td>\n",
              "      <td>0.383838</td>\n",
              "      <td>2.308642</td>\n",
              "      <td>29.699118</td>\n",
              "      <td>0.523008</td>\n",
              "      <td>0.381594</td>\n",
              "      <td>32.204208</td>\n",
              "    </tr>\n",
              "    <tr>\n",
              "      <th>std</th>\n",
              "      <td>257.353842</td>\n",
              "      <td>0.486592</td>\n",
              "      <td>0.836071</td>\n",
              "      <td>14.526497</td>\n",
              "      <td>1.102743</td>\n",
              "      <td>0.806057</td>\n",
              "      <td>49.693429</td>\n",
              "    </tr>\n",
              "    <tr>\n",
              "      <th>min</th>\n",
              "      <td>1.000000</td>\n",
              "      <td>0.000000</td>\n",
              "      <td>1.000000</td>\n",
              "      <td>0.420000</td>\n",
              "      <td>0.000000</td>\n",
              "      <td>0.000000</td>\n",
              "      <td>0.000000</td>\n",
              "    </tr>\n",
              "    <tr>\n",
              "      <th>25%</th>\n",
              "      <td>223.500000</td>\n",
              "      <td>0.000000</td>\n",
              "      <td>2.000000</td>\n",
              "      <td>20.125000</td>\n",
              "      <td>0.000000</td>\n",
              "      <td>0.000000</td>\n",
              "      <td>7.910400</td>\n",
              "    </tr>\n",
              "    <tr>\n",
              "      <th>50%</th>\n",
              "      <td>446.000000</td>\n",
              "      <td>0.000000</td>\n",
              "      <td>3.000000</td>\n",
              "      <td>28.000000</td>\n",
              "      <td>0.000000</td>\n",
              "      <td>0.000000</td>\n",
              "      <td>14.454200</td>\n",
              "    </tr>\n",
              "    <tr>\n",
              "      <th>75%</th>\n",
              "      <td>668.500000</td>\n",
              "      <td>1.000000</td>\n",
              "      <td>3.000000</td>\n",
              "      <td>38.000000</td>\n",
              "      <td>1.000000</td>\n",
              "      <td>0.000000</td>\n",
              "      <td>31.000000</td>\n",
              "    </tr>\n",
              "    <tr>\n",
              "      <th>max</th>\n",
              "      <td>891.000000</td>\n",
              "      <td>1.000000</td>\n",
              "      <td>3.000000</td>\n",
              "      <td>80.000000</td>\n",
              "      <td>8.000000</td>\n",
              "      <td>6.000000</td>\n",
              "      <td>512.329200</td>\n",
              "    </tr>\n",
              "  </tbody>\n",
              "</table>\n",
              "</div>"
            ],
            "text/plain": [
              "       PassengerId    Survived      Pclass  ...       SibSp       Parch        Fare\n",
              "count   891.000000  891.000000  891.000000  ...  891.000000  891.000000  891.000000\n",
              "mean    446.000000    0.383838    2.308642  ...    0.523008    0.381594   32.204208\n",
              "std     257.353842    0.486592    0.836071  ...    1.102743    0.806057   49.693429\n",
              "min       1.000000    0.000000    1.000000  ...    0.000000    0.000000    0.000000\n",
              "25%     223.500000    0.000000    2.000000  ...    0.000000    0.000000    7.910400\n",
              "50%     446.000000    0.000000    3.000000  ...    0.000000    0.000000   14.454200\n",
              "75%     668.500000    1.000000    3.000000  ...    1.000000    0.000000   31.000000\n",
              "max     891.000000    1.000000    3.000000  ...    8.000000    6.000000  512.329200\n",
              "\n",
              "[8 rows x 7 columns]"
            ]
          },
          "metadata": {
            "tags": []
          },
          "execution_count": 48
        }
      ]
    },
    {
      "cell_type": "code",
      "metadata": {
        "id": "IVOOCs0_qxk1"
      },
      "source": [
        "#shows non numerical variables\n",
        "df.describe(include=[bool,object])"
      ],
      "execution_count": null,
      "outputs": []
    },
    {
      "cell_type": "code",
      "metadata": {
        "id": "gOxDWi91reVT",
        "colab": {
          "base_uri": "https://localhost:8080/"
        },
        "outputId": "12918031-4a6e-44ce-98d5-0fb90ca6084a"
      },
      "source": [
        "df.Fare.mean()"
      ],
      "execution_count": 47,
      "outputs": [
        {
          "output_type": "execute_result",
          "data": {
            "text/plain": [
              "32.2042079685746"
            ]
          },
          "metadata": {
            "tags": []
          },
          "execution_count": 47
        }
      ]
    },
    {
      "cell_type": "code",
      "metadata": {
        "id": "TtErVYP6rgHc",
        "colab": {
          "base_uri": "https://localhost:8080/"
        },
        "outputId": "e9e2d6aa-12f4-498e-d837-cea0a3925578"
      },
      "source": [
        "df[df['Survived']==1].mean()"
      ],
      "execution_count": 53,
      "outputs": [
        {
          "output_type": "execute_result",
          "data": {
            "text/plain": [
              "PassengerId    444.368421\n",
              "Survived         1.000000\n",
              "Pclass           1.950292\n",
              "Age             28.343690\n",
              "SibSp            0.473684\n",
              "Parch            0.464912\n",
              "Fare            48.395408\n",
              "dtype: float64"
            ]
          },
          "metadata": {
            "tags": []
          },
          "execution_count": 53
        }
      ]
    },
    {
      "cell_type": "markdown",
      "metadata": {
        "id": "UxpcYcQyzjQg"
      },
      "source": [
        "# Filtering"
      ]
    },
    {
      "cell_type": "code",
      "metadata": {
        "id": "hja9FGLfyBbf",
        "colab": {
          "base_uri": "https://localhost:8080/"
        },
        "outputId": "798e60dc-825a-4e3b-9f0d-bc75b7f7b8fd"
      },
      "source": [
        "df.Age"
      ],
      "execution_count": 54,
      "outputs": [
        {
          "output_type": "execute_result",
          "data": {
            "text/plain": [
              "0      22.0\n",
              "1      38.0\n",
              "2      26.0\n",
              "3      35.0\n",
              "4      35.0\n",
              "       ... \n",
              "886    27.0\n",
              "887    19.0\n",
              "888     NaN\n",
              "889    26.0\n",
              "890    32.0\n",
              "Name: Age, Length: 891, dtype: float64"
            ]
          },
          "metadata": {
            "tags": []
          },
          "execution_count": 54
        }
      ]
    },
    {
      "cell_type": "code",
      "metadata": {
        "id": "ElpqSj_CyKQb"
      },
      "source": [
        "df[['Pclass','Sex','Age']]\n"
      ],
      "execution_count": null,
      "outputs": []
    },
    {
      "cell_type": "code",
      "metadata": {
        "id": "wnx6YWKezOR-",
        "colab": {
          "base_uri": "https://localhost:8080/",
          "height": 415
        },
        "outputId": "c7e3d8c5-fddb-47c1-96a3-6a2aff13d159"
      },
      "source": [
        "df.iloc[:,3:6]"
      ],
      "execution_count": 62,
      "outputs": [
        {
          "output_type": "execute_result",
          "data": {
            "text/html": [
              "<div>\n",
              "<style scoped>\n",
              "    .dataframe tbody tr th:only-of-type {\n",
              "        vertical-align: middle;\n",
              "    }\n",
              "\n",
              "    .dataframe tbody tr th {\n",
              "        vertical-align: top;\n",
              "    }\n",
              "\n",
              "    .dataframe thead th {\n",
              "        text-align: right;\n",
              "    }\n",
              "</style>\n",
              "<table border=\"1\" class=\"dataframe\">\n",
              "  <thead>\n",
              "    <tr style=\"text-align: right;\">\n",
              "      <th></th>\n",
              "      <th>Name</th>\n",
              "      <th>Sex</th>\n",
              "      <th>Age</th>\n",
              "    </tr>\n",
              "  </thead>\n",
              "  <tbody>\n",
              "    <tr>\n",
              "      <th>0</th>\n",
              "      <td>Braund, Mr. Owen Harris</td>\n",
              "      <td>male</td>\n",
              "      <td>22.0</td>\n",
              "    </tr>\n",
              "    <tr>\n",
              "      <th>1</th>\n",
              "      <td>Cumings, Mrs. John Bradley (Florence Briggs Th...</td>\n",
              "      <td>female</td>\n",
              "      <td>38.0</td>\n",
              "    </tr>\n",
              "    <tr>\n",
              "      <th>2</th>\n",
              "      <td>Heikkinen, Miss. Laina</td>\n",
              "      <td>female</td>\n",
              "      <td>26.0</td>\n",
              "    </tr>\n",
              "    <tr>\n",
              "      <th>3</th>\n",
              "      <td>Futrelle, Mrs. Jacques Heath (Lily May Peel)</td>\n",
              "      <td>female</td>\n",
              "      <td>35.0</td>\n",
              "    </tr>\n",
              "    <tr>\n",
              "      <th>4</th>\n",
              "      <td>Allen, Mr. William Henry</td>\n",
              "      <td>male</td>\n",
              "      <td>35.0</td>\n",
              "    </tr>\n",
              "    <tr>\n",
              "      <th>...</th>\n",
              "      <td>...</td>\n",
              "      <td>...</td>\n",
              "      <td>...</td>\n",
              "    </tr>\n",
              "    <tr>\n",
              "      <th>886</th>\n",
              "      <td>Montvila, Rev. Juozas</td>\n",
              "      <td>male</td>\n",
              "      <td>27.0</td>\n",
              "    </tr>\n",
              "    <tr>\n",
              "      <th>887</th>\n",
              "      <td>Graham, Miss. Margaret Edith</td>\n",
              "      <td>female</td>\n",
              "      <td>19.0</td>\n",
              "    </tr>\n",
              "    <tr>\n",
              "      <th>888</th>\n",
              "      <td>Johnston, Miss. Catherine Helen \"Carrie\"</td>\n",
              "      <td>female</td>\n",
              "      <td>NaN</td>\n",
              "    </tr>\n",
              "    <tr>\n",
              "      <th>889</th>\n",
              "      <td>Behr, Mr. Karl Howell</td>\n",
              "      <td>male</td>\n",
              "      <td>26.0</td>\n",
              "    </tr>\n",
              "    <tr>\n",
              "      <th>890</th>\n",
              "      <td>Dooley, Mr. Patrick</td>\n",
              "      <td>male</td>\n",
              "      <td>32.0</td>\n",
              "    </tr>\n",
              "  </tbody>\n",
              "</table>\n",
              "<p>891 rows × 3 columns</p>\n",
              "</div>"
            ],
            "text/plain": [
              "                                                  Name     Sex   Age\n",
              "0                              Braund, Mr. Owen Harris    male  22.0\n",
              "1    Cumings, Mrs. John Bradley (Florence Briggs Th...  female  38.0\n",
              "2                               Heikkinen, Miss. Laina  female  26.0\n",
              "3         Futrelle, Mrs. Jacques Heath (Lily May Peel)  female  35.0\n",
              "4                             Allen, Mr. William Henry    male  35.0\n",
              "..                                                 ...     ...   ...\n",
              "886                              Montvila, Rev. Juozas    male  27.0\n",
              "887                       Graham, Miss. Margaret Edith  female  19.0\n",
              "888           Johnston, Miss. Catherine Helen \"Carrie\"  female   NaN\n",
              "889                              Behr, Mr. Karl Howell    male  26.0\n",
              "890                                Dooley, Mr. Patrick    male  32.0\n",
              "\n",
              "[891 rows x 3 columns]"
            ]
          },
          "metadata": {
            "tags": []
          },
          "execution_count": 62
        }
      ]
    },
    {
      "cell_type": "code",
      "metadata": {
        "id": "Ho9qpnEtrn7c",
        "colab": {
          "base_uri": "https://localhost:8080/"
        },
        "outputId": "a53db9d7-7e52-44c7-fa10-5b1e553268d9"
      },
      "source": [
        "df[(df['Survived'] == 1) & (df['Pclass'] == 1)]['Age'].max()"
      ],
      "execution_count": 65,
      "outputs": [
        {
          "output_type": "execute_result",
          "data": {
            "text/plain": [
              "80.0"
            ]
          },
          "metadata": {
            "tags": []
          },
          "execution_count": 65
        }
      ]
    },
    {
      "cell_type": "code",
      "metadata": {
        "id": "f8JOjfJUsLqU",
        "colab": {
          "base_uri": "https://localhost:8080/"
        },
        "outputId": "2c47951e-abcd-4d26-b6b5-08cee4e18e24"
      },
      "source": [
        "df[(df['Survived'] == 0) & (df['Pclass'] == 1)]['Age'].max()"
      ],
      "execution_count": 66,
      "outputs": [
        {
          "output_type": "execute_result",
          "data": {
            "text/plain": [
              "71.0"
            ]
          },
          "metadata": {
            "tags": []
          },
          "execution_count": 66
        }
      ]
    },
    {
      "cell_type": "code",
      "metadata": {
        "id": "NYlxPy7jHpNC"
      },
      "source": [
        "df.head()"
      ],
      "execution_count": null,
      "outputs": []
    },
    {
      "cell_type": "code",
      "metadata": {
        "id": "ZwXy78grHpF7"
      },
      "source": [
        ""
      ],
      "execution_count": null,
      "outputs": []
    },
    {
      "cell_type": "code",
      "metadata": {
        "id": "geJdTQHdw2IA"
      },
      "source": [
        "classes_name = {1 : 'Class I', 2 : 'Class II', 3:'Class III'}\n",
        "df_new=df.replace({'Pclass': classes_name})\n",
        "df_new.head(20)"
      ],
      "execution_count": null,
      "outputs": []
    },
    {
      "cell_type": "markdown",
      "metadata": {
        "id": "OoqOFNMG6R1e"
      },
      "source": [
        "# Grouping"
      ]
    },
    {
      "cell_type": "code",
      "metadata": {
        "id": "YXHqLYwC6VGV"
      },
      "source": [
        "survived_count = df.groupby('Survived')['Survived'].count()\n",
        "survived_count"
      ],
      "execution_count": null,
      "outputs": []
    },
    {
      "cell_type": "code",
      "metadata": {
        "id": "KVEVJtDq6ctl"
      },
      "source": [
        "type(survived_count)"
      ],
      "execution_count": null,
      "outputs": []
    },
    {
      "cell_type": "code",
      "metadata": {
        "id": "wshMqLaD624U"
      },
      "source": [
        "var_of_interest = ['Fare', 'Age']\n",
        "\n",
        "df.groupby(['Survived'])[var_of_interest].agg([np.mean, np.std, np.min, np.max])"
      ],
      "execution_count": null,
      "outputs": []
    },
    {
      "cell_type": "code",
      "metadata": {
        "id": "15FWUVPslcK4"
      },
      "source": [
        "#Contingency table\n",
        "pd.crosstab(df['Survived'], df['Pclass'])"
      ],
      "execution_count": null,
      "outputs": []
    },
    {
      "cell_type": "markdown",
      "metadata": {
        "id": "mQa16iNK9ZvO"
      },
      "source": [
        "# Basic Charts"
      ]
    },
    {
      "cell_type": "code",
      "metadata": {
        "id": "27sWmg0E7ajT",
        "colab": {
          "base_uri": "https://localhost:8080/",
          "height": 322
        },
        "outputId": "27d96670-e7f5-4452-8c62-ed1450f9326f"
      },
      "source": [
        "plt.figure(figsize=(6,5))\n",
        "plt.bar(survived_count.index, survived_count.values)\n",
        "\n",
        "plt.show()\n",
        "\n",
        "#plt.text(1,0,'hello', horizontalalignment='center', verticalalignment='center')"
      ],
      "execution_count": 78,
      "outputs": [
        {
          "output_type": "display_data",
          "data": {
            "image/png": "[encoded data removed]",
            "text/plain": [
              "<Figure size 432x360 with 1 Axes>"
            ]
          },
          "metadata": {
            "tags": []
          }
        }
      ]
    },
    {
      "cell_type": "code",
      "metadata": {
        "id": "HvrzcDP6pZku"
      },
      "source": [
        "plt.figure(figsize=(4,5))\n",
        "plt.bar(survived_count.index, survived_count.values)\n",
        "plt.title('Grouped by survival')\n",
        "plt.xticks([0,1],['Not survived', 'Survived'])\n",
        "for i, value in enumerate(survived_count.values):\n",
        "    plt.text(i, value-40, str(value), fontsize=18, color='white',\n",
        "             horizontalalignment='center', verticalalignment='center')\n",
        "    \n",
        "    plt.text(1,0,'hello', horizontalalignment='center', verticalalignment='center')\n",
        "\n",
        "plt.show()\n",
        "\n"
      ],
      "execution_count": null,
      "outputs": []
    },
    {
      "cell_type": "code",
      "metadata": {
        "id": "Q_WVh9Pd-axR"
      },
      "source": [
        "survived_sex = df.groupby('Sex')['Survived'].sum()\n",
        "survived_sex"
      ],
      "execution_count": null,
      "outputs": []
    },
    {
      "cell_type": "code",
      "metadata": {
        "id": "tHDY5sXHWXis"
      },
      "source": [
        "import seaborn as sns; sns.set()"
      ],
      "execution_count": null,
      "outputs": []
    },
    {
      "cell_type": "code",
      "metadata": {
        "id": "xqIDqlOxEEkc"
      },
      "source": [
        "plt.figure(figsize=(4,5))\n",
        "plt.bar(survived_sex.index, survived_sex.values)\n",
        "plt.title('Survived female and male')\n",
        "for i, value in enumerate(survived_sex.values):\n",
        "    plt.text(i, value-20, str(value), fontsize=12, color='white',\n",
        "             horizontalalignment='center', verticalalignment='center')\n",
        "plt.show()"
      ],
      "execution_count": null,
      "outputs": []
    },
    {
      "cell_type": "code",
      "metadata": {
        "id": "fZdmgIbzJ4hn"
      },
      "source": [
        "pclass_count = df.groupby('Pclass')['Pclass'].count()\n",
        "\n",
        "plt.figure(figsize=(7,7))\n",
        "plt.title('Grouped by pclass')\n",
        "plt.pie(pclass_count.values, labels=['Class 1', 'Class 2', 'Class 3'], autopct='%1.1f%%', textprops={'fontsize':13})\n",
        "plt.show()"
      ],
      "execution_count": null,
      "outputs": []
    },
    {
      "cell_type": "markdown",
      "metadata": {
        "id": "JBJ8zhw4L4Vk"
      },
      "source": [
        "# Create a pie chart with the embarking city distribution\n",
        "Make the chart bigger\\\n",
        "Show the city names (hint, you can find them in kaggle)\\\n",
        "Bonus. Explode Cherbourg wedge and change font color"
      ]
    },
    {
      "cell_type": "code",
      "metadata": {
        "id": "uMO2-JJZL-1Z"
      },
      "source": [
        "pcity_count = df.groupby('Embarked')['Embarked'].count()\n",
        "\n",
        "plt.figure(figsize=(10,10))\n",
        "plt.title('Grouped by City')\n",
        "\n",
        "myexplode = [0.2, 0, 0]\n",
        "plt.pie(pcity_count.values, labels=['Cherbourg', 'Queenstown', 'Southampton'], autopct='%1.1f%%', textprops={'fontsize':15, 'color':'blue'}, explode = myexplode)\n",
        "plt.show()"
      ],
      "execution_count": null,
      "outputs": []
    },
    {
      "cell_type": "markdown",
      "metadata": {
        "id": "5tsV9ZgtSoR3"
      },
      "source": [
        "### Age distribution chart"
      ]
    },
    {
      "cell_type": "code",
      "metadata": {
        "id": "rz7fYGHZSr4O"
      },
      "source": [
        "ages = df[df['Age'].notnull()]['Age'].values"
      ],
      "execution_count": null,
      "outputs": []
    },
    {
      "cell_type": "code",
      "metadata": {
        "id": "-SIgOgGrTPCS",
        "colab": {
          "base_uri": "https://localhost:8080/"
        },
        "outputId": "c6ba1697-12de-4944-abcd-ca4cd107a388"
      },
      "source": [
        "ages_hist = np.histogram(ages, bins=[0,10,20,30,40,50,60,70,80,90])\n",
        "ages_hist"
      ],
      "execution_count": null,
      "outputs": [
        {
          "output_type": "execute_result",
          "data": {
            "text/plain": [
              "(array([ 62, 102, 220, 167,  89,  48,  19,   6,   1]),\n",
              " array([ 0, 10, 20, 30, 40, 50, 60, 70, 80, 90]))"
            ]
          },
          "metadata": {
            "tags": []
          },
          "execution_count": 22
        }
      ]
    },
    {
      "cell_type": "code",
      "metadata": {
        "id": "GP5DE5Q7TPyl"
      },
      "source": [
        "ages_hist_labels = ['0–10', '11–20', '21–30', '31–40', '41–50', '51–60', '61–70', '71–80', '81–90']"
      ],
      "execution_count": null,
      "outputs": []
    },
    {
      "cell_type": "code",
      "metadata": {
        "id": "3v7net5uTTI1"
      },
      "source": [
        "plt.figure(figsize=(7,7))\n",
        "plt.title('Age distribution')\n",
        "plt.bar(ages_hist_labels, ages_hist[0])\n",
        "plt.xlabel('Age')\n",
        "plt.ylabel('No of passenger')\n",
        "for i, bin in zip(ages_hist[0], range(9)):\n",
        "    plt.text(bin, i+5, str(int(i)), fontsize=12,\n",
        "             horizontalalignment='center', verticalalignment='center')\n",
        "plt.show()"
      ],
      "execution_count": null,
      "outputs": []
    },
    {
      "cell_type": "markdown",
      "metadata": {
        "id": "CUknQwbEe6bJ"
      },
      "source": [
        "Create a histogram with fare values"
      ]
    }
  ]
}