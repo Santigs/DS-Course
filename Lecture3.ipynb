{
  "nbformat": 4,
  "nbformat_minor": 0,
  "metadata": {
    "colab": {
      "name": "Lecture3.ipynb",
      "provenance": [],
      "authorship_tag": "ABX9TyN6OG13MXSWKzoJNCx4qQcL",
      "include_colab_link": true
    },
    "kernelspec": {
      "name": "python3",
      "display_name": "Python 3"
    }
  },
  "cells": [
    {
      "cell_type": "markdown",
      "metadata": {
        "id": "view-in-github",
        "colab_type": "text"
      },
      "source": [
        "<a href=\"https://colab.research.google.com/github/Santigs/DS-Course/blob/main/Lecture3.ipynb\" target=\"_parent\"><img src=\"https://colab.research.google.com/assets/colab-badge.svg\" alt=\"Open In Colab\"/></a>"
      ]
    },
    {
      "cell_type": "code",
      "metadata": {
        "id": "KYXFBKg6pAu-"
      },
      "source": [
        "# make sure you have installed the api\n",
        "# pip install pycoingecko\n",
        "# https://github.com/man-c/pycoingecko\n",
        "!pip install pycoingecko"
      ],
      "execution_count": null,
      "outputs": []
    },
    {
      "cell_type": "code",
      "metadata": {
        "id": "63-_Nnf9pHSM"
      },
      "source": [
        "import pandas as pd\n",
        "import numpy as np\n",
        "import matplotlib.pyplot as plt\n",
        "import seaborn as sns; sns.set()\n",
        "from pycoingecko import CoinGeckoAPI"
      ],
      "execution_count": null,
      "outputs": []
    },
    {
      "cell_type": "code",
      "metadata": {
        "id": "rI-vBqGhpKRf"
      },
      "source": [
        "cg = CoinGeckoAPI()\n",
        "# Getting bitcoin price: cg.get_price(ids='bitcoin', vs_currencies='usd')\n",
        "# Getting list of coins: cg.get_coins_list()\n",
        "\n",
        "coinlist = cg.get_coins_list()\n",
        "coinlist\n"
      ],
      "execution_count": null,
      "outputs": []
    },
    {
      "cell_type": "code",
      "metadata": {
        "id": "43VQWiNPt7Nj"
      },
      "source": [
        "# Fetching currency data\n",
        "currency = 'badger-dao'\n",
        "#currency = 'honey'\n",
        "data = cg.get_coin_by_id(currency)"
      ],
      "execution_count": null,
      "outputs": []
    },
    {
      "cell_type": "code",
      "metadata": {
        "id": "6DGnWwbmpkox"
      },
      "source": [
        "# Getting current price and ath date & price\n",
        "name = data['id']\n",
        "market_data = data['market_data']\n",
        "current_price = market_data['current_price']\n",
        "all_time_high = market_data['ath']\n",
        "ath_date = market_data['ath_date']\n",
        "total_volume = market_data['total_volume']\n",
        "\n",
        "\n",
        "price_usd = current_price['usd']\n",
        "price_ath = all_time_high['usd']\n",
        "date_ath = ath_date['usd']\n",
        "volume_usd = total_volume['usd']\n",
        "\n",
        "# Printing values \n",
        "\n",
        "print(name)\n",
        "print('Current price: %3.4f USD' %price_usd)\n",
        "print('Ath price: %3.4f USD' %price_ath)\n",
        "print('Ath date: ',date_ath[0:10],'at', date_ath[11:19])\n",
        "print('Volume: %8.2f USD' %volume_usd)"
      ],
      "execution_count": null,
      "outputs": []
    },
    {
      "cell_type": "code",
      "metadata": {
        "id": "b3RA9MGyrUb0"
      },
      "source": [
        "# Fetch coin contract info from coingecko\n",
        "# cg.get_coin_info_from_contract_address_by_id('honey')\n",
        "\n",
        "ticker = cg.get_coin_ticker_by_id(currency)\n",
        "\n",
        "\n",
        "\n",
        "# extract exchanges and volume\n",
        "exchanges = pd.DataFrame(ticker['tickers'])\n",
        "converted_volumes = exchanges['converted_volume']\n",
        "\n",
        "\n",
        "# create a dataframe with volume trades per market per currency pair in usd\n",
        "traded_volume = pd.DataFrame(columns=['Exchange', 'Pair', 'Amount'])\n",
        "for num, volume in enumerate(converted_volumes):\n",
        "    traded_volume = traded_volume.append({'Exchange': exchanges.iloc[num][2]['name'], \n",
        "                                          'Pair': exchanges.iloc[num][1], \n",
        "                                          'Amount': volume['usd']}, ignore_index=True)\n",
        "    \n",
        "    \n",
        "\n",
        "    \n",
        "#traded_volume.set_index('Exchange',inplace=True)\n",
        "traded_volume"
      ],
      "execution_count": null,
      "outputs": []
    },
    {
      "cell_type": "code",
      "metadata": {
        "id": "nO44MF0ZxTiw"
      },
      "source": [
        "traded_volume.info()"
      ],
      "execution_count": null,
      "outputs": []
    },
    {
      "cell_type": "code",
      "metadata": {
        "id": "YjOoW_iXv1q6"
      },
      "source": [
        "#create a new dataframe to convert amount values from string to numeric\n",
        "traded_df= pd.DataFrame(traded_volume)\n",
        "traded_df['Amount']=pd.to_numeric(traded_df['Amount'])\n",
        "\n",
        "#create a scatter chart\n",
        "plt.figure(figsize=(20,10))\n",
        "plt.xlabel('Exchanges', fontsize=24)\n",
        "plt.ylabel('Pairs', fontsize=24)\n",
        "plt.title(name+' Traded Volume', fontsize=32)\n",
        "plt.xticks(rotation=45)\n",
        "graph = plt.scatter(traded_df['Exchange'], traded_df['Pair'], s=traded_df['Amount']/5000, cmap='Blues')\n"
      ],
      "execution_count": null,
      "outputs": []
    },
    {
      "cell_type": "code",
      "metadata": {
        "id": "cLRW8NaL9VpR"
      },
      "source": [
        "fig= plt.figure(figsize=(20,6))\n",
        "graph = sns.barplot(x = 'Exchange', y = 'Amount', hue='Pair' , data = traded_df, palette = 'Greens', edgecolor = 'w')"
      ],
      "execution_count": null,
      "outputs": []
    },
    {
      "cell_type": "code",
      "metadata": {
        "id": "gj4c41jr-n62"
      },
      "source": [
        "# Fetching last days of data\n",
        "# https://github.com/man-c/pycoingecko/blob/master/pycoingecko/api.py\n",
        "\n",
        "chart_data= cg.get_coin_market_chart_by_id(currency, 'usd', 30)"
      ],
      "execution_count": null,
      "outputs": []
    },
    {
      "cell_type": "code",
      "metadata": {
        "id": "hFcIV3Gs-etG"
      },
      "source": [
        "# Generate dataframe for price and volume\n",
        "data_price = pd.DataFrame(chart_data['prices'])\n",
        "data_volume = pd.DataFrame(chart_data['total_volumes'])\n",
        "data_price.columns = ['Date', 'Price']\n",
        "data_volume.columns = ['Date', 'Volume']\n",
        "data_price = data_price.join(data_volume['Volume'])\n",
        "\n",
        "\n",
        "data_price['Date'] = pd.to_datetime(data_price['Date'], unit='ms')\n",
        "data_price['new_formatted_date'] = data_price.Date.dt.strftime('%d/%m/%y %H:%M:%S')\n",
        "\n",
        "\n",
        "data_price\n",
        "#data_price.to_csv(name+'_price_data.csv', index = False)\n"
      ],
      "execution_count": null,
      "outputs": []
    },
    {
      "cell_type": "code",
      "metadata": {
        "id": "MaQNS-xPA7iv"
      },
      "source": [
        "# Creating a price chart\n",
        "\n",
        "graph1 = data_price.plot(x='Date', y='Price', figsize=(20,8), color='b')\n"
      ],
      "execution_count": null,
      "outputs": []
    },
    {
      "cell_type": "code",
      "metadata": {
        "id": "NM2yKInPVTQF"
      },
      "source": [
        "# Creating a Volume bar chart\n",
        "\n",
        "graph2 = data_volume.plot.bar(x='Date', y='Volume', figsize=(60,10), color='b')\n",
        "graph2.xaxis.set_major_formatter(plt.NullFormatter())"
      ],
      "execution_count": null,
      "outputs": []
    },
    {
      "cell_type": "code",
      "metadata": {
        "id": "kxHWzrNQWo6v"
      },
      "source": [
        "# Fitting a polynomial curve\n",
        "# to show volume trend\n",
        "\n",
        "length = len(data_volume['Date'])\n",
        "\n",
        "\n",
        "x = np.linspace(1, length, length)\n",
        "y = data_volume['Volume']\n",
        "\n",
        "\n",
        "\n",
        "p3 = np.polyfit(x, y,3)\n",
        "xpoly = np.linspace(1, length, length)\n",
        "ypoly = np.polyval(p3, xpoly)\n",
        "\n",
        "\n",
        "\n",
        "graph3 = plt.figure(figsize=(60,10))\n",
        "graph3 = plt.bar(x,y)\n",
        "graph3 = plt.plot(xpoly, ypoly, color='r', linewidth=6)\n",
        "graph3 = plt.title('Volume Evolution', fontsize=36)\n",
        "\n",
        "\n",
        "\n"
      ],
      "execution_count": null,
      "outputs": []
    },
    {
      "cell_type": "code",
      "metadata": {
        "id": "voKAaqYlZXRR"
      },
      "source": [
        "# Fitting a polynomial curve\n",
        "# to show price trend\n",
        "\n",
        "length = len(data_price['Date'])\n",
        "\n",
        "x = np.linspace(1, length, length)\n",
        "y = data_price['Price']\n",
        "\n",
        "\n",
        "p3 = np.polyfit(x, y,3)\n",
        "xpoly = np.linspace(1, length, length)\n",
        "ypoly = np.polyval(p3, xpoly)\n",
        "\n",
        "graph4 = plt.figure(figsize=(60,10))\n",
        "graph4 = plt.title('Price Evolution', fontsize=36)\n",
        "graph4 = plt.plot(x, y, linewidth=6)\n",
        "graph4 = plt.plot(xpoly, ypoly, color='r', linewidth=4)\n",
        "\n",
        "#labels = data_price['Date'].tolist()\n",
        "\n",
        "\n"
      ],
      "execution_count": null,
      "outputs": []
    },
    {
      "cell_type": "markdown",
      "metadata": {
        "id": "IqELjDq_dSxs"
      },
      "source": [
        "### Animating a graph"
      ]
    },
    {
      "cell_type": "code",
      "metadata": {
        "id": "Xu1FKijZdSYH"
      },
      "source": [
        "import random\n",
        "from itertools import count\n",
        "from matplotlib.animation import FuncAnimation\n",
        "from matplotlib.pyplot import figure"
      ],
      "execution_count": null,
      "outputs": []
    },
    {
      "cell_type": "code",
      "metadata": {
        "id": "A0NqktzIdYWJ"
      },
      "source": [
        "#This cell will not work on google colab\n",
        "#You need to run it in your local machine with jupyter\n",
        "\n",
        "%matplotlib notebook\n",
        "import matplotlib.animation as animation\n",
        "from matplotlib import rcParams\n",
        "\n",
        "\n",
        "#plt.style.use('fivethirtyeight')\n",
        "params = {'figure.figsize': (10, 5),\n",
        "         'xtick.labelsize':'x-small',\n",
        "         'ytick.labelsize':'x-small',\n",
        "         }\n",
        "plt.rcParams.update(params)\n",
        "plt.xticks(rotation=30)\n",
        "\n",
        "labels = []\n",
        "x_vals = []\n",
        "y_vals = []\n",
        "y_h = data_price['Price']\n",
        "\n",
        "\n",
        "\n",
        "index = count()\n",
        "\n",
        "def animate(i):\n",
        "    num = next(index)\n",
        "    dia = data_price['new_formatted_date'][num]\n",
        "    \n",
        "    #labels.append(dia[1:8])\n",
        "    #plt.set_xticklabels(labels)\n",
        "    \n",
        "    x_vals.append(data_price['Date'][num])\n",
        "    y_vals.append(y_h[num])\n",
        "   \n",
        "\n",
        "    plt.cla()\n",
        "    plt.xticks(rotation=30)\n",
        "    #plt.xlabel('xlabel', fontsize=10)\n",
        "    plt.plot(x_vals, y_vals, linewidth=2.0, color='red', label='currency')\n",
        "    \n",
        "    plt.legend(loc='upper left')\n",
        "    plt.tight_layout\n",
        "    \n",
        "   \n",
        "\n",
        "\n",
        "ani = FuncAnimation(plt.gcf(), animate, interval=1)\n",
        "\n",
        "\n",
        "plt.plot(x_vals, y_vals)\n",
        "\n",
        "\n",
        "plt.tight_layout()\n",
        "plt.show()\n",
        "\n",
        "#ani.save('myAnimation.gif', writer='imagemagick', fps=30)\n",
        "#https://riptutorial.com/matplotlib/example/23577/interactive-controls-with-matplotlib-widgets\n",
        "#https://www.google.com/search?q=jupyter+animate+matplotlib&oq=jupyter+animat&aqs=chrome.3.69i57j0l7.6679j0j7&sourceid=chrome&ie=UTF-8#kpvalbx=_oVGLXqPjIMiHjLsPsYqAqA820"
      ],
      "execution_count": null,
      "outputs": []
    }
  ]
}