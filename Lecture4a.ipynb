{
  "nbformat": 4,
  "nbformat_minor": 0,
  "metadata": {
    "colab": {
      "name": "Lecture4a.ipynb",
      "provenance": [],
      "authorship_tag": "ABX9TyNJkSW6tHq1AMfOLuqQb2h0",
      "include_colab_link": true
    },
    "kernelspec": {
      "name": "python3",
      "display_name": "Python 3"
    }
  },
  "cells": [
    {
      "cell_type": "markdown",
      "metadata": {
        "id": "view-in-github",
        "colab_type": "text"
      },
      "source": [
        "<a href=\"https://colab.research.google.com/github/Santigs/DS-Course/blob/main/Lecture4a.ipynb\" target=\"_parent\"><img src=\"https://colab.research.google.com/assets/colab-badge.svg\" alt=\"Open In Colab\"/></a>"
      ]
    },
    {
      "cell_type": "markdown",
      "metadata": {
        "id": "UOIGqgg152hp"
      },
      "source": [
        "# Tutorials\n",
        "**Steps in a machine learning process**\\\n",
        "Import the Data\\\n",
        "Clean the and prepare the Data\\\n",
        "Split the Data into Train/Test Sets\\\n",
        "Create a Model\\\n",
        "Train the Model\\\n",
        "Make predictions\\\n",
        "Evaluate and improve\n",
        "\n",
        "\n"
      ]
    },
    {
      "cell_type": "code",
      "metadata": {
        "id": "uX6C-9Lk5JbQ"
      },
      "source": [
        "import pandas as pd"
      ],
      "execution_count": null,
      "outputs": []
    },
    {
      "cell_type": "code",
      "metadata": {
        "id": "uQsaA5up5lpv"
      },
      "source": [
        "#1.- Import data\n",
        "music_data = pd.read_csv('music.csv')\n",
        "music_data"
      ],
      "execution_count": null,
      "outputs": []
    },
    {
      "cell_type": "code",
      "metadata": {
        "id": "GVyS2LQZ6IUI"
      },
      "source": [
        "#2.- Clean and prepare the Data\n",
        "X = music_data.drop(columns='genre')\n",
        "y = music_data['genre']"
      ],
      "execution_count": null,
      "outputs": []
    },
    {
      "cell_type": "code",
      "metadata": {
        "id": "8TjAbqhN8AxU"
      },
      "source": [
        "# https://scikit-learn.org/stable/\n",
        "from sklearn.tree import DecisionTreeClassifier\n",
        "#4.- Create the model\n",
        "model = DecisionTreeClassifier()\n"
      ],
      "execution_count": null,
      "outputs": []
    },
    {
      "cell_type": "code",
      "metadata": {
        "id": "PHeig3QWIxWC"
      },
      "source": [
        "#5.- Train the model\n",
        "model.fit(X,y)\n",
        "music_data"
      ],
      "execution_count": null,
      "outputs": []
    },
    {
      "cell_type": "code",
      "metadata": {
        "id": "KlEoGViiTWWk"
      },
      "source": [
        "#6.- make predictions\n",
        "predictions = model.predict([[21,1],[22,0]])\n",
        "predictions"
      ],
      "execution_count": null,
      "outputs": []
    },
    {
      "cell_type": "code",
      "metadata": {
        "id": "H1CiOVz1UOxR"
      },
      "source": [
        "#3.- Split thd Data\n",
        "from sklearn.model_selection import train_test_split\n",
        "X_train, X_test, y_train, y_test = train_test_split(X, y, test_size=0.2)\n",
        "#5.- Train the model\n",
        "model.fit(X_train, y_train)\n",
        "#6.- Make predictions\n",
        "predictions = model.predict(X_test)\n",
        "#7.- Evaluate and improve\n",
        "from sklearn.metrics import accuracy_score\n",
        "score = accuracy_score(y_test, predictions)\n",
        "score"
      ],
      "execution_count": null,
      "outputs": []
    },
    {
      "cell_type": "code",
      "metadata": {
        "id": "lodw3p7EnLRH"
      },
      "source": [
        "#persistance\n",
        "\n",
        "from sklearn.externals import joblib\n",
        "joblib.dump(model, 'music-recommender.joblib')"
      ],
      "execution_count": null,
      "outputs": []
    },
    {
      "cell_type": "code",
      "metadata": {
        "id": "31aGDLLxn_O6"
      },
      "source": [
        "model = joblib.load('music-recommender.joblib')\n",
        "predictions = model.predict([[21,1],[22,0]])\n",
        "predictions"
      ],
      "execution_count": null,
      "outputs": []
    },
    {
      "cell_type": "code",
      "metadata": {
        "id": "i__5lL9fomfs"
      },
      "source": [
        "#Exporting the Tree in a graphical format\n",
        "from sklearn import tree\n",
        "\n",
        "tree.export_graphviz(model, out_file='music-recommender.dot',\n",
        "                     feature_names=['age','gender'], \n",
        "                     class_names=sorted(y.unique()),\n",
        "                     label='all',\n",
        "                     rounded = True,\n",
        "                     filled = True)"
      ],
      "execution_count": null,
      "outputs": []
    },
    {
      "cell_type": "code",
      "metadata": {
        "id": "DWg7m1JqsEE0"
      },
      "source": [
        "#Visualize the graph\n",
        "# https://dreampuf.github.io/GraphvizOnline/\n"
      ],
      "execution_count": null,
      "outputs": []
    }
  ]
}